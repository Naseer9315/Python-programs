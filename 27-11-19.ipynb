{
 "cells": [
  {
   "cell_type": "code",
   "execution_count": 4,
   "metadata": {},
   "outputs": [
    {
     "name": "stdout",
     "output_type": "stream",
     "text": [
      "min palindrome a\n",
      "max palindrome a\n"
     ]
    }
   ],
   "source": [
    "#enter a string check the length of the string and find the largest and smallest words in the string and it \n",
    "#is palindrome or not\n",
    "s=\"this is a python program for palindrome check\"\n",
    "s1=s.split()\n",
    "sort=sorted(s1,key=len)\n",
    "l=[]\n",
    "for i in sort:\n",
    "   x=i[::-1]\n",
    "   if x==i:\n",
    "       l.append(x)\n",
    "y=sorted(l)\n",
    "print(\"min palindrome\",y[0])\n",
    "print(\"max palindrome\",y[-1])"
   ]
  },
  {
   "cell_type": "code",
   "execution_count": null,
   "metadata": {},
   "outputs": [],
   "source": [
    "#create folder and create random no of files in side that folder and names of that folders will be \n",
    "#different and matter shd be uniqe and size will be 512kb\n",
    "\n"
   ]
  }
 ],
 "metadata": {
  "kernelspec": {
   "display_name": "Python 3",
   "language": "python",
   "name": "python3"
  },
  "language_info": {
   "codemirror_mode": {
    "name": "ipython",
    "version": 3
   },
   "file_extension": ".py",
   "mimetype": "text/x-python",
   "name": "python",
   "nbconvert_exporter": "python",
   "pygments_lexer": "ipython3",
   "version": "3.7.4"
  }
 },
 "nbformat": 4,
 "nbformat_minor": 2
}
