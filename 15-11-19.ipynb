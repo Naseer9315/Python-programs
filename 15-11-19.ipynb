{
 "cells": [
  {
   "cell_type": "code",
   "execution_count": 2,
   "metadata": {},
   "outputs": [
    {
     "name": "stdout",
     "output_type": "stream",
     "text": [
      "enter a number45\n",
      "1\n",
      "3\n",
      "5\n",
      "9\n",
      "15\n",
      "45\n"
     ]
    }
   ],
   "source": [
    "#1. Read a number as input and Print the Output as Factors of the given number\n",
    "\n",
    "n=int(input(\"enter a number\"))\n",
    "for i in range(1,n+1):\n",
    "   if n%i==0:\n",
    "       print(i)"
   ]
  },
  {
   "cell_type": "code",
   "execution_count": 3,
   "metadata": {},
   "outputs": [
    {
     "name": "stdout",
     "output_type": "stream",
     "text": [
      "number: 1156\n",
      "6\n"
     ]
    }
   ],
   "source": [
    "#2.The program must accept an integer N as the input. Need to print the largest digit from the given number.\n",
    "a = (input(\"number: \"))\n",
    "print (sorted(list(a))[-1])"
   ]
  },
  {
   "cell_type": "code",
   "execution_count": 7,
   "metadata": {},
   "outputs": [
    {
     "name": "stdout",
     "output_type": "stream",
     "text": [
      "9\n"
     ]
    }
   ],
   "source": [
    "#2.The program must accept an integer N as the input. Need to print the largest digit from the given number.\n",
    "def large(*b):\n",
    "   x=list(b)\n",
    "   x.sort()\n",
    "   print(x[-1])\n",
    "large(6,9,1,8)"
   ]
  },
  {
   "cell_type": "code",
   "execution_count": 8,
   "metadata": {},
   "outputs": [
    {
     "name": "stdout",
     "output_type": "stream",
     "text": [
      "enter number6464646\n",
      "6\n"
     ]
    }
   ],
   "source": [
    "#The program must accept an integer N as the input. Need to print the output in the following manner.\n",
    "n1=int(input('enter number'))\n",
    "n2=0\n",
    "while n1>0:\n",
    "   rem=n1%10\n",
    "   if n2<rem:\n",
    "       n2=rem\n",
    "   n1=n1//10\n",
    "print(n2) "
   ]
  },
  {
   "cell_type": "code",
   "execution_count": 15,
   "metadata": {},
   "outputs": [
    {
     "name": "stdout",
     "output_type": "stream",
     "text": [
      "enter a number6\n",
      "720\n"
     ]
    }
   ],
   "source": [
    "#4. Write a user-defined function to find factorial of a number in all the possible ways.\n",
    "n=int(input(\"enter a number\"))\n",
    "fact=1\n",
    "if n==0:\n",
    "       print(\"factorial of 0 is 1\")\n",
    "else:\n",
    "    for i in range(1,n+1):\n",
    "        fact=fact*i\n",
    "    print(fact)    "
   ]
  },
  {
   "cell_type": "code",
   "execution_count": 18,
   "metadata": {},
   "outputs": [
    {
     "name": "stdout",
     "output_type": "stream",
     "text": [
      "enter number145\n",
      "yes\n"
     ]
    }
   ],
   "source": [
    "#Individual digit factorial sum is the same as the original number then need to print   YES otherwise  need to print NO\n",
    "import math\n",
    "num=int(input('enter number'))\n",
    "temp=num\n",
    "n=0\n",
    "while num>0:\n",
    "   rem=num%10\n",
    "   x=math.factorial(rem)\n",
    "   n=n+x\n",
    "   num=num//10\n",
    "if temp==n:\n",
    "   print('yes')\n",
    "else:\n",
    "   print('no')"
   ]
  },
  {
   "cell_type": "code",
   "execution_count": 2,
   "metadata": {},
   "outputs": [
    {
     "name": "stdout",
     "output_type": "stream",
     "text": [
      "enter a number1889\n",
      "16\n"
     ]
    }
   ],
   "source": [
    "#3. The program must accept an integer N as the input. Need to print the output in the following manner.\n",
    "num=int(input('enter a number'))\n",
    "n2=0\n",
    "while num>0:\n",
    "   rem=num%10\n",
    "   if rem%2==0:\n",
    "       n2=n2+rem\n",
    "   num=num//10\n",
    "print(n2)"
   ]
  },
  {
   "cell_type": "code",
   "execution_count": null,
   "metadata": {},
   "outputs": [],
   "source": []
  }
 ],
 "metadata": {
  "kernelspec": {
   "display_name": "Python 3",
   "language": "python",
   "name": "python3"
  },
  "language_info": {
   "codemirror_mode": {
    "name": "ipython",
    "version": 3
   },
   "file_extension": ".py",
   "mimetype": "text/x-python",
   "name": "python",
   "nbconvert_exporter": "python",
   "pygments_lexer": "ipython3",
   "version": "3.7.4"
  }
 },
 "nbformat": 4,
 "nbformat_minor": 2
}
